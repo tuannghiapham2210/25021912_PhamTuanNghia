{
 "cells": [
  {
   "cell_type": "code",
   "execution_count": null,
   "id": "f209721c",
   "metadata": {},
   "outputs": [],
   "source": [
    "#Bài 1:\n",
    "n = int(input(\"Nhập vào một số nguyên: \"))\n",
    "print( 2 * n )"
   ]
  },
  {
   "cell_type": "code",
   "execution_count": null,
   "id": "5df6ecbe",
   "metadata": {},
   "outputs": [],
   "source": [
    "#Bài 2:\n",
    "a = float(input(\"Nhập vào đây chiều rộng của mảnh vườn: \"))\n",
    "b = float(input(\"Nhập vào đây chiều dài của mảnh vườn: \"))\n",
    "rectangle = a * b\n",
    "circle = pow((a / 2), 2) * 3.14\n",
    "trees = rectangle - circle\n",
    "print(f\"Diện tích trồng cây còn lại là: {trees:.2f}\")"
   ]
  },
  {
   "cell_type": "code",
   "execution_count": null,
   "id": "bfaf57d1",
   "metadata": {},
   "outputs": [],
   "source": [
    "\n",
    "#Bài 3:\n",
    "n = input(\"Nhập vào đây một ký tự bất kì: \")\n",
    "if n.isupper():\n",
    "    print(n.lower())\n",
    "else:\n",
    "    print(n.upper())"
   ]
  },
  {
   "cell_type": "code",
   "execution_count": null,
   "id": "91b2a476",
   "metadata": {},
   "outputs": [],
   "source": [
    "#Bài 4:\n",
    "n = input(\"Nhập vào đây một ký tự bất kì: \")\n",
    "if n.isalpha():\n",
    "    print(f\"{n} là ký tự chữ cái\")\n",
    "else:\n",
    "    print(f\"{n} không phải là ký tự chữ cái\")"
   ]
  },
  {
   "cell_type": "code",
   "execution_count": null,
   "id": "2fe9c623",
   "metadata": {},
   "outputs": [],
   "source": [
    "#Bài 5:\n",
    "n = input(\"Nhập vào đây một ký tự in hoa: \")\n",
    "if n != \"A\":\n",
    "   print(chr((ord(n.lower()) - 1)))\n",
    "else:\n",
    "    print(\"Đây là trường hợp đặc biệt!\")"
   ]
  },
  {
   "cell_type": "code",
   "execution_count": null,
   "id": "b9ab0625",
   "metadata": {},
   "outputs": [],
   "source": [
    "#Bài 6:\n",
    "import math\n",
    "a = float(input(\"Nhập vào đây cạnh thứ nhất của tam giác: \"))\n",
    "b = float(input(\"Nhập vào đây cạnh thứ hai của tam giác: \"))\n",
    "c = float(input(\"Nhập vào đây cạnh thứ ba của tam giác: \"))\n",
    "if a + b > c and a + c > b and b + c > a:\n",
    "    p = (a + b + c) / 2\n",
    "    area = math.sqrt(p * (p - a) * (p - b) * (p - c))\n",
    "    print(f\"Diện tích của tam giác là: {area:.1f}\")\n",
    "else:\n",
    "    print(\"Đây không phải ba cạnh của một tam giác\")"
   ]
  },
  {
   "cell_type": "code",
   "execution_count": null,
   "id": "6b6f984c",
   "metadata": {},
   "outputs": [],
   "source": [
    "\n",
    "#Bài 7:\n",
    "n = input(\"nhập vào đây một chuỗi ký tự (khoảng 20 ký tự đổ lên): \")\n",
    "if len(n) >= 20:\n",
    "    print(f\"Chữ cái thứ 5 của chuỗi là: {n[4]}\")\n",
    "    print(f\"Chữ cái thứ 9 của chuỗi là: {n[8]}\")\n",
    "else:\n",
    "    print(\"Độ dài chưa đạt tiêu chuẩn!\")\n"
   ]
  },
  {
   "cell_type": "code",
   "execution_count": null,
   "id": "6326c3a2",
   "metadata": {},
   "outputs": [],
   "source": [
    "#Bài 8:\n",
    "#Cách 1:\n",
    "name = input(\"Họ và tên chủ hộ: \")\n",
    "a = int(input(\"Chỉ số tháng trước: \"))\n",
    "b = int(input(\"Chỉ số tháng này: \"))\n",
    "c = b - a\n",
    "total = 0\n",
    "if 0 <= c <= 50:\n",
    "    total = c * 1984\n",
    "elif 51 <= c <= 100:\n",
    "    total = 50 * 1984 + (c - 50) * 2050\n",
    "elif 101 <= c <= 200:\n",
    "    total = 50 * 1984 + 50 * 2050 + (c - 100) * 2380\n",
    "elif 201 <= c <= 300:\n",
    "    total = 50 * 1984 + 50 * 2050 + 100 * 2380 + (c - 200) * 2998\n",
    "elif 301 <= c <= 400:\n",
    "    total = 50 * 1984 + 50 * 2050 + 100 * 2380 + 100 * 2998 + (c - 300) * 3350\n",
    "elif c >= 401:\n",
    "    total = 50 * 1984 + 50 * 2050 + 100 * 2380 + 100 * 2998 + 100 * 3350 + (c - 400) * 3460\n",
    "total = total + total * 8/100\n",
    "print(f\"Họ và tên: {name}\")\n",
    "print(f\"Tiền phải trả là: {total:.0f}\")\n",
    "\n",
    "\n",
    "\n",
    "#Cách 2 (gọn hơn nhưng khó hơn):\n",
    "name = input(\"Họ và tên chủ hộ: \")\n",
    "a = int(input(\"Chỉ số tháng trước: \"))\n",
    "b = int(input(\"Chỉ số tháng này: \"))\n",
    "c = b - a\n",
    "total = 0\n",
    "list = [(50, 1984), (50, 2050), (100, 2380), (100, 2998), (100, 3350)]\n",
    "for x, i in list:\n",
    "    if c >= x:\n",
    "        total = total + x * i\n",
    "        c = c - x\n",
    "    else:\n",
    "        total = total + c * i\n",
    "        c = 0\n",
    "        break\n",
    "if c > 0:\n",
    "    total = total + c * 3460\n",
    "total = total + total * 8/100\n",
    "print(f\"Họ và tên: {name}\")\n",
    "print(f\"Tiền phải trả là: {total:.0f}\")\n"
   ]
  },
  {
   "cell_type": "code",
   "execution_count": null,
   "id": "4daf1d9f",
   "metadata": {},
   "outputs": [],
   "source": [
    "#Bài 1:\n",
    "n = int(input(\"Nhập vào đây một số nguyên: \"))\n",
    "if n % 2 == 0:\n",
    "    print(f\"số {n} là số chẵn\")\n",
    "else:\n",
    "    print(f\"số {n} là số lẻ\")"
   ]
  },
  {
   "cell_type": "code",
   "execution_count": null,
   "id": "ff712a28",
   "metadata": {},
   "outputs": [],
   "source": [
    " \n",
    "#Bài 2:\n",
    "def tancung_5(n):\n",
    "    if n[-1] == \"5\":\n",
    "        return True\n",
    "    else:\n",
    "        return False\n",
    "n = input(\"Nhập vào đây số nguyên dương: \")\n",
    "print(tancung_5(n))"
   ]
  },
  {
   "cell_type": "code",
   "execution_count": null,
   "id": "c121bc34",
   "metadata": {},
   "outputs": [],
   "source": [
    "\n",
    "#Bài 3:\n",
    "def chiahet(n):\n",
    "    if n % 5 == 0 and n % 3 == 0:\n",
    "        return True\n",
    "    else:\n",
    "        return False\n",
    "print(chiahet(int(input(\"Nhập một số nguyên bất kì: \"))))"
   ]
  },
  {
   "cell_type": "code",
   "execution_count": null,
   "id": "d557acfa",
   "metadata": {},
   "outputs": [],
   "source": [
    "\n",
    "#Bài 4:\n",
    "age = 2025 - int(input(\"Năm sinh của bạn là gì? \"))\n",
    "if age <= 0:\n",
    "    print(\"Năm sinh của bạn không hợp lệ!\")\n",
    "elif 0 < age < 18:\n",
    "    print(\"Bạn chưa đủ tuổi bầu cử!\")\n",
    "else:\n",
    "    print(\"Bạn đủ tuổi bầu cử!\")"
   ]
  },
  {
   "cell_type": "code",
   "execution_count": null,
   "id": "3e1e948a",
   "metadata": {},
   "outputs": [],
   "source": [
    "#Bài 5:\n",
    "a = int(input(\"Nhập vào đây số thứ 1: \"))\n",
    "b = int(input(\"Nhập vào đây số thứ 2: \"))\n",
    "if a > b:\n",
    "    print(f\"{a} lớn hơn {b}\")\n",
    "elif a < b:\n",
    "    print(f\"{a} nhỏ hơn {b}\")\n",
    "else:\n",
    "    print(f\"{a} bằng {b}\")\n"
   ]
  },
  {
   "cell_type": "code",
   "execution_count": null,
   "id": "31ba9449",
   "metadata": {},
   "outputs": [],
   "source": [
    "\n",
    "#Bài 6:\n",
    "def kiemtra(n):\n",
    "    if n.isdigit():\n",
    "        return \"đây là một số\"\n",
    "    elif n.isalpha():\n",
    "        return \"đây là chữ cái\"\n",
    "print(kiemtra(input(\"Nhập vào đây một ký tự bất kì: \")))"
   ]
  },
  {
   "cell_type": "code",
   "execution_count": null,
   "id": "3187abc3",
   "metadata": {},
   "outputs": [],
   "source": [
    "#Bài 7:\n",
    "def hocluc(n):\n",
    "    if n < 0 or n > 10:\n",
    "        return \"Điểm không hợp lệ!\"\n",
    "    if n >= 8:\n",
    "        return \"Giỏi\"\n",
    "    elif 6.5 <= n < 8:\n",
    "        return \"Khá\"\n",
    "    elif 5 <= n < 6.5:\n",
    "        return \"Trung Bình\"\n",
    "    elif n < 5:\n",
    "        return \"Yếu\"\n",
    "print(hocluc(float((input(\"Nhập điểm của bạn: \")))))"
   ]
  },
  {
   "cell_type": "code",
   "execution_count": null,
   "id": "a49ab0dd",
   "metadata": {},
   "outputs": [],
   "source": [
    "#Bài 8:\n",
    "def nhuan(n):\n",
    "    if n % 400 == 0:\n",
    "        return True\n",
    "    if n % 4 == 0:\n",
    "        if n % 100 == 0:\n",
    "            return False\n",
    "        return True\n",
    "    else:\n",
    "        return False\n",
    "print(nhuan(int(input(\"Nhập vào đây một năm bất kì: \"))))\n",
    "\n",
    "#Cách 2:\n",
    "def nhuan(n):\n",
    "    return n % 400 == 0 or (n % 4 == 0 and n % 100 != 0)\n",
    "print((nhuan(int(input(\"Nhập một năm bất kì: \")))))\n"
   ]
  },
  {
   "cell_type": "code",
   "execution_count": null,
   "id": "34cbace2",
   "metadata": {},
   "outputs": [],
   "source": [
    "#Bài 9:\n",
    "x = int(input(\"Nhập vào đây một số bất kì từ 0 đến 9: \"))\n",
    "match (x):\n",
    "    case 0:\n",
    "        print(\"Không\")\n",
    "    case 1:\n",
    "        print(\"Một\")\n",
    "    case 2:\n",
    "        print(\"Hai\")\n",
    "    case 3:\n",
    "        print(\"Ba\")\n",
    "    case 4:\n",
    "        print(\"Bốn\")\n",
    "    case 5:\n",
    "        print(\"Năm\")\n",
    "    case 6:\n",
    "        print(\"Sáu\")\n",
    "    case 7:\n",
    "        print(\"Bảy\")\n",
    "    case 8:\n",
    "        print(\"Tám\")\n",
    "    case 9:\n",
    "        print(\"Chín\")\n"
   ]
  },
  {
   "cell_type": "code",
   "execution_count": null,
   "id": "bf591caf",
   "metadata": {},
   "outputs": [],
   "source": [
    "\n",
    "#Bài 10:\n",
    "def quamon(n):\n",
    "    if n < 0 or n > 10:\n",
    "        return \"Điểm thi không hợp lệ!\"\n",
    "    elif n >= 4:\n",
    "        return \"Qua môn\"\n",
    "    else:\n",
    "        return \"Học lại\"\n",
    "print(quamon(int(input())))"
   ]
  },
  {
   "cell_type": "code",
   "execution_count": null,
   "id": "b4d73900",
   "metadata": {},
   "outputs": [],
   "source": [
    "\n",
    "#Bài 11:\n",
    "n = int(input(\"Nhập năm sinh của bạn: \"))\n",
    "age = 2025 - n\n",
    "if age < 0:\n",
    "    print(\"Năm sinh của bạn không hợp lệ!\")\n",
    "else:\n",
    "    if age >= 18:\n",
    "        print(f\"Tuổi của bạn là {age} tuổi.\")\n",
    "        print(\"Bạn đã đủ 18 tuổi!\")\n",
    "    else:\n",
    "        print(f\"Tuổi của bạn là {age} tuổi.\")\n",
    "        print(\"Bạn chưa đủ 18 tuổi!\")"
   ]
  }
 ],
 "metadata": {
  "language_info": {
   "name": "python"
  }
 },
 "nbformat": 4,
 "nbformat_minor": 5
}
