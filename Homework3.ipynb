{
 "cells": [
  {
   "cell_type": "code",
   "execution_count": null,
   "id": "9208c8ac",
   "metadata": {},
   "outputs": [],
   "source": [
    "#W3A2: Hoán đổi hai số không sd biến tạm thời. Sử dụng phép toán XOR trên bit để hoán đổi giá trị của hai biến.\n",
    "a, b = map(int, input().split())\n",
    "a = a^b\n",
    "b = a^b\n",
    "a = a^b\n",
    "print(a, b)"
   ]
  },
  {
   "cell_type": "code",
   "execution_count": null,
   "id": "a4081a53",
   "metadata": {},
   "outputs": [],
   "source": [
    "#W3A3: Kiểm tra xem một số có phải là lũy thừa của 2 hay không. Sử dụng các toán tử bitwise để xác định xem một số có phải là lũy thừa của 2 hay không.\n",
    "n = int(input())\n",
    "print(\"Yes\" if n > 0 and n & (n-1) == 0 else \"No\")"
   ]
  },
  {
   "cell_type": "code",
   "execution_count": null,
   "id": "e33fdc92",
   "metadata": {},
   "outputs": [],
   "source": [
    "import math\n",
    "#W3A4: Viết chương trình chia một số m cho n, kết quả thu được làm tròn xuống.\n",
    "m = float(input())\n",
    "n = float(input())\n",
    "print(math.floor(m / n))\n"
   ]
  },
  {
   "cell_type": "code",
   "execution_count": null,
   "id": "1cb79543",
   "metadata": {},
   "outputs": [],
   "source": [
    "import math\n",
    "#W3A5: Viêt chương trình chia một số m cho n, kết quả thu được làm tròn lên.\n",
    "m = float(input())\n",
    "n = float(input())\n",
    "print(math.ceil(m / n))"
   ]
  },
  {
   "cell_type": "code",
   "execution_count": null,
   "id": "2a8452fa",
   "metadata": {},
   "outputs": [],
   "source": [
    "#W3A6: Nhập vào một số nguyên dương x, bạn hãy kiểm tra xem x là số chẵn hay lẻ. Nếu x là số chẵn, in ra \"Even\". Nếu x là số lẻ, in ra \"Odd\".\n",
    "x = int(input())\n",
    "if x % 2 == 0:\n",
    "    print(\"Even\")\n",
    "else:\n",
    "    print(\"Odd\")\n"
   ]
  },
  {
   "cell_type": "code",
   "execution_count": null,
   "id": "15bdbc57",
   "metadata": {},
   "outputs": [],
   "source": [
    "#W3A7: Nhập vào hai số nguyên a, b. Nếu cả hai số a, b đều âm thì in ra \"Yes\",ngược lại in ra \"No\".\n",
    "a = int(input())\n",
    "b = int(input())\n",
    "if a < 0 and b < 0:\n",
    "    print(\"Yes\")\n",
    "else:\n",
    "    print(\"No\")"
   ]
  },
  {
   "cell_type": "code",
   "execution_count": null,
   "id": "e0518608",
   "metadata": {},
   "outputs": [],
   "source": [
    "#W3A8: Nhập vào hai chuỗi a, b gồm các chữ cái thường. In ra \"True\" nếu chuỗi a dài hơn chuỗi b. Ngược lại in ra \"False\".\n",
    "a = input()\n",
    "b = input()\n",
    "if len(a) > len(b):\n",
    "    print(\"True\")\n",
    "else:\n",
    "    print(\"False\")"
   ]
  },
  {
   "cell_type": "code",
   "execution_count": null,
   "id": "cf2bc6c8",
   "metadata": {},
   "outputs": [],
   "source": [
    "#W3A9: Nhập vào 3 số nguyên dương a, b, c. Kiểm tra xem a, b, c có cấu thành độ dài cạnh của 1 tam giác được không. Nếu a, b, c cấu tạo thành được một tam giác, in ra \"Yes\". Ngược lại in ra \"No\"\n",
    "a, b, c = map(int, input().split())\n",
    "if a + b > c and a + c > b and b + c > a:\n",
    "    print(\"Yes\")\n",
    "else:\n",
    "    print(\"No\")\n"
   ]
  },
  {
   "cell_type": "code",
   "execution_count": null,
   "id": "aa31d64d",
   "metadata": {},
   "outputs": [],
   "source": [
    "#W3A10: Nhập vào 4 số nguyên. In ra màn hình số nguyên lớn nhất trong 4 số.\n",
    "#Cách 1:\n",
    "a, b, c, d = map(int, input().split())\n",
    "print(max(a, b, c, d))\n",
    "\n",
    "#Cách 2:\n",
    "numbers = list(map(int, input().split()))\n",
    "maxnum = numbers[0]\n",
    "for i in numbers:\n",
    "    if i > maxnum:\n",
    "        maxnum = i\n",
    "print(maxnum)\n",
    "\n",
    "#Cách 3:\n",
    "print(sorted(list(map(int, input().split())))[-1])"
   ]
  },
  {
   "cell_type": "code",
   "execution_count": null,
   "id": "a4f2e8f4",
   "metadata": {},
   "outputs": [],
   "source": [
    "#W3A11: Nhập vào 3 số nguyên dương a,b,c là độ dài 3 cạnh của một tam giác. Kiểm tra 3 số đã nhập có tạo thành một tam giác hợp lệ hay không. Nếu không in ra \"Không phải tam giác\". Nếu có, phân loại tam giác đó là \"Tam giác đều\", \"Tam giác cân\", hay \"Tam giác thường\".\n",
    "a, b, c = map(int, input().split())\n",
    "if a + b > c and a + c > b and b + c > a:\n",
    "    if a == b and b == c:\n",
    "        print(\"Tam giác đều\")\n",
    "    elif a == b or b == c or c == a:\n",
    "        print(\"Tam giác cân\")\n",
    "    else:\n",
    "        print(\"Tam giác thường\")\n",
    "else:\n",
    "    print(\"Không phải tam giác\")"
   ]
  },
  {
   "cell_type": "code",
   "execution_count": null,
   "id": "2443ce43",
   "metadata": {},
   "outputs": [],
   "source": [
    "#W3A12: Nhập vào một số nguyên dương n là số năm, kiểm tra xem năm đó có phải là năm nhuận hay không. Năm nhuận là năm chia hết cho 4 nhưng không chiahết cho 100, hoặc chia hết cho 400. Nếu là năm nhuận in ra \"Yes\", nếu không in ra \"No\"\n",
    "n = int(input())\n",
    "if n % 400 == 0:\n",
    "    print(\"Yes\")\n",
    "elif n % 4 == 0:\n",
    "    if n % 100 == 0:\n",
    "        print(\"No\")\n",
    "    else:\n",
    "        print(\"Yes\")\n",
    "else:\n",
    "    print(\"No\")"
   ]
  },
  {
   "cell_type": "code",
   "execution_count": null,
   "id": "4addf0eb",
   "metadata": {},
   "outputs": [],
   "source": [
    "#W3A14: Nhập vào hai số thực a và b của phương trình ax + b = 0. Tìm và in ra nghiệm của phương trình, kết quả làm tròn đến số thập phân thứ 2. In ra \"Vô nghiệm\" hoặc \"Vô số nghiệm\" trong trường hợp tương ứng.\n",
    "a, b = map(float, input().split())\n",
    "if a == 0:\n",
    "    if b == 0:\n",
    "        print(\"Phương trình có vô số nghiệm\")\n",
    "    else:\n",
    "        print(\"Phương trình vô nghiệm\")\n",
    "else:\n",
    "    x = -b/a\n",
    "    print(f\"Phương trình có nghiệm duy nhất x = {x:.2f}\")"
   ]
  },
  {
   "cell_type": "code",
   "execution_count": null,
   "id": "87d389a4",
   "metadata": {},
   "outputs": [],
   "source": [
    "#W3A15: Nhập vào điểm trung bình của một học sinh và in ra học lực của học sinh đó. Xếp loại học lực theo quy tắc: >= 8.0: Giỏi  >= 6.5: Khá  >= 5.0: Trung bình  < 5.0: Yếu\n",
    "#Cách 1:\n",
    "gpa = float(input())\n",
    "if  0 <= gpa <= 10:\n",
    "    if gpa >= 8:\n",
    "        print(\"Giỏi\")\n",
    "    elif gpa >= 6.5:\n",
    "        print(\"Khá\")\n",
    "    elif gpa >= 5:\n",
    "        print(\"Trung bình\")\n",
    "    else:\n",
    "        print(\"Yếu\")\n",
    "else:\n",
    "    print(\"Điểm không hợp lệ\")\n",
    "\n",
    "\n",
    "#Cách 2 (tối ưu):\n",
    "gpa = float(input())\n",
    "if 0 <= gpa <= 10:\n",
    "    print(\n",
    "        \"Giỏi\" if gpa >= 8 else\n",
    "        \"Khá\" if gpa >= 6.5 else\n",
    "        \"Trung bình\" if gpa >= 5 else\n",
    "        \"Yếu\"\n",
    "    )\n",
    "else:\n",
    "    print(\"Điểm không hợp lệ\")\n"
   ]
  },
  {
   "cell_type": "code",
   "execution_count": null,
   "id": "ef87b9ec",
   "metadata": {},
   "outputs": [],
   "source": [
    "#W3A16: Nhập vào một số thực: in ra kết quả làm tròn lên, tròn xuống, làm tròn tới số nguyên gần nhất (không được sử dụng hàm sẵn có của python). Các kết quả cách nhau một dấu cách.\n",
    "#Cách 1:\n",
    "number = float(input())\n",
    "a, b = str(number).split(\".\")\n",
    "c = 0\n",
    "if int(b) == 0:\n",
    "    print(int(a), int(a), int(a) )\n",
    "elif int(a) >= 0:\n",
    "    if int(b[0]) >= 5:\n",
    "        c = int(a) + 1\n",
    "    elif int(b[0]) < 5:\n",
    "        c = int(a)\n",
    "    print(int(a) + 1, int(a), c, end = \" \")\n",
    "else:\n",
    "    if int(b[0]) >= 5:\n",
    "        c = int(a) - 1\n",
    "    elif int(b[0]) < 5:\n",
    "        c = int(a)\n",
    "    print(int(a), int(a) - 1, c, end = \" \")\n",
    "\n",
    "\n",
    "#Cách 2 (tối ưu hơn chút):\n",
    "a, b = str(float(input())).split(\".\")\n",
    "a = int(a)\n",
    "b = int(b)\n",
    "if b == 0:\n",
    "    ceil = floor = rnd = a\n",
    "elif a >= 0:\n",
    "    ceil = a + 1\n",
    "    floor = a\n",
    "    rnd = a + 1 if int(str(b)[0]) >= 5 else a\n",
    "else:\n",
    "    ceil = a\n",
    "    floor = a - 1\n",
    "    rnd = a if int(str(b)[0]) < 5 else a - 1\n",
    "print(ceil, floor, rnd, end = \" \")"
   ]
  },
  {
   "cell_type": "code",
   "execution_count": null,
   "id": "c1eae668",
   "metadata": {},
   "outputs": [],
   "source": [
    "#W3A17: Cho 4 số a, b, c, d. Hãy kiểm tra xem 4 số này có thể theo thứ tự tạo thành 1 cấp số nhân với công bội nguyên theo đúng thứ tự a, b, c, d hay không?\n",
    "a, b, c, d = map(float, input().split())\n",
    "if a == 0:\n",
    "    if b == 0 and c == 0 and d == 0:\n",
    "        print(\"Yes\")\n",
    "    else:\n",
    "        print(\"No\")\n",
    "elif b % a == 0:\n",
    "    q = b / a\n",
    "    print(\"Yes\" if b * q == c and c * q == d else \"No\" )\n",
    "else:\n",
    "    print(\"No\")"
   ]
  }
 ],
 "metadata": {
  "language_info": {
   "name": "python"
  }
 },
 "nbformat": 4,
 "nbformat_minor": 5
}
