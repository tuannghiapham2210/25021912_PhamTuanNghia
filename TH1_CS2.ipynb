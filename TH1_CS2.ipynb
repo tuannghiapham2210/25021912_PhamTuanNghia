{
 "cells": [
  {
   "cell_type": "code",
   "execution_count": null,
   "id": "a5910a39",
   "metadata": {},
   "outputs": [],
   "source": [
    "#W2A1\n",
    "print(\"Hello World!\")"
   ]
  },
  {
   "cell_type": "code",
   "execution_count": null,
   "id": "5c57f64d",
   "metadata": {},
   "outputs": [],
   "source": [
    "#W2A2\n",
    "name = input(\"Enter your name: \")\n",
    "print(f\"Hello {name}!\")"
   ]
  },
  {
   "cell_type": "code",
   "execution_count": null,
   "id": "0eb51986",
   "metadata": {},
   "outputs": [],
   "source": [
    "#W2A3\n",
    "a = int(input(\"Enter number a: \"))\n",
    "b = int(input(\"Enter number b: \"))\n",
    "tong = a + b\n",
    "hieu = a - b\n",
    "tich = a * b\n",
    "phan_nguyen = a // b\n",
    "phan_du = a % b\n",
    "thuong = a / b\n",
    "print (f\"{tong} {hieu} {tich} {phan_nguyen} {phan_du} {thuong:.2f}\")"
   ]
  },
  {
   "cell_type": "code",
   "execution_count": null,
   "id": "29c9bda2",
   "metadata": {},
   "outputs": [],
   "source": [
    "#W2A4\n",
    "a1, b1, c1, a2, b2, a3  = map(int, input(\"Nhập điểm của từng môn học mỗi đầu điểm được ngăn cách với nhau bằng dấu cách): \").split())\n",
    "a = format(((a1 + b1 + c1) + (a2 + b2) * 2 + a3 * 3) / 10, \".1f\")\n",
    "print(f\"Điểm trung bình của bạn là\", a)"
   ]
  },
  {
   "cell_type": "code",
   "execution_count": null,
   "id": "26368c73",
   "metadata": {},
   "outputs": [],
   "source": [
    "#W2AA5\n",
    "numbers = input(\"Nhập vào 2 số (ngăn cách với nhau bởi dấu cách): \")\n",
    "a, b = map(float, numbers.split())\n",
    "answer = a ** b\n",
    "print(answer)"
   ]
  },
  {
   "cell_type": "code",
   "execution_count": null,
   "id": "4318af02",
   "metadata": {},
   "outputs": [],
   "source": [
    "#W2A6\n",
    "unicode = input(\"Nhập vào đây một chữ cái bất kì (từ a đến z): \")\n",
    "print(ord(unicode))\n",
    "print(unicode.upper())\n"
   ]
  },
  {
   "cell_type": "code",
   "execution_count": null,
   "id": "56efa341",
   "metadata": {},
   "outputs": [],
   "source": [
    "#W2A7\n",
    "A = ((13 ** 2) * 3) + 5\n",
    "B = 13**2*3 + 5\n",
    "print(A)\n",
    "print(B)"
   ]
  },
  {
   "cell_type": "code",
   "execution_count": null,
   "id": "28b54fea",
   "metadata": {},
   "outputs": [],
   "source": [
    "#W2A8\n",
    "celsius = float(input(\"Nhập nhiệt độ của bạn trong thang nhiệt độ celsius: \"))\n",
    "fahrenheit = celsius * 9/5 + 32\n",
    "print(f\"Nhiệt độ của bạn trong thang Fahrenheit là {fahrenheit:.2f}\")"
   ]
  },
  {
   "cell_type": "code",
   "execution_count": null,
   "id": "aa455ca1",
   "metadata": {},
   "outputs": [],
   "source": [
    "#W2A9\n",
    "price = float(input(\"Điền giá của chiếc đồng hồ: \"))\n",
    "total = price + 10 + 0.4 * price\n",
    "print(f\"Tổng cái giá mà bạn phải trả là: ${total}\")"
   ]
  },
  {
   "cell_type": "code",
   "execution_count": null,
   "id": "5ccfdc9f",
   "metadata": {},
   "outputs": [],
   "source": [
    "#W2A10\n",
    "name = input(\"Hãy nhập vào đây tên của 3 người (ngăn cách với nhau bởi dấu cách): \")\n",
    "a, b, c = name.split()\n",
    "print(f\"Hi {c}, {b} and {a}.\")"
   ]
  },
  {
   "cell_type": "code",
   "execution_count": null,
   "id": "cb6d4714",
   "metadata": {},
   "outputs": [],
   "source": [
    "#W2A11\n",
    "hour, minute = map(int, input(\"Điềm vào đây giờ và phút (ngăn cách với nhau bởi dấu cách): \").split())\n",
    "second = hour * 3600 + minute * 60\n",
    "print(second)\n"
   ]
  },
  {
   "cell_type": "code",
   "execution_count": null,
   "id": "9a5e508e",
   "metadata": {},
   "outputs": [],
   "source": [
    "#W2A12\n",
    "canh = int(input(\"nhập vào đây độ dài 1 cạnh của khối rubik: \"))\n",
    "number = canh * 6\n",
    "print(f\"số miếng dán cần sử dụng là: {number}\")"
   ]
  },
  {
   "cell_type": "code",
   "execution_count": null,
   "id": "790b3ca5",
   "metadata": {},
   "outputs": [],
   "source": [
    "#W2A13\n",
    "a1 = int(input(\"Nhập vào số nguyên dương thứ 1: \"))\n",
    "a2 = int(input(\"Nhập vào số nguyên dương thứ 2: \"))\n",
    "tich = a1 * a2\n",
    "print(format (tich, \".0f\"))"
   ]
  },
  {
   "cell_type": "code",
   "execution_count": null,
   "id": "39887ed3",
   "metadata": {},
   "outputs": [],
   "source": [
    "#W2A14\n",
    "a = 1\n",
    "b = 2\n",
    "a, b = b, a\n"
   ]
  },
  {
   "cell_type": "code",
   "execution_count": null,
   "id": "823051f4",
   "metadata": {},
   "outputs": [],
   "source": [
    "#W2A15\n",
    "n = int(input(\"nhập vào đây số nguyên dương n: \"))\n",
    "so_sao = (3 * n * (n - 1) + 1)\n",
    "print(so_sao)"
   ]
  },
  {
   "cell_type": "code",
   "execution_count": null,
   "id": "d383287a",
   "metadata": {},
   "outputs": [],
   "source": [
    "#W2A16\n",
    "season = ['Spring', 'Summer', 'Autumn', 'Winter']\n",
    "for i in season:\n",
    "    print(i)"
   ]
  },
  {
   "cell_type": "code",
   "execution_count": null,
   "id": "6b6a8e16",
   "metadata": {},
   "outputs": [],
   "source": [
    "#W2A17\n",
    "print(\"*\\n***\\n*****\")"
   ]
  },
  {
   "cell_type": "code",
   "execution_count": null,
   "id": "f65e4eec",
   "metadata": {},
   "outputs": [],
   "source": [
    "#W2A18\n",
    "print(\"### # #   ### ###\")\n",
    "print(\" #  #  #   #   # \")\n",
    "print(\" #  #  #   #   # \")\n",
    "print(\" #  # #    #   # \")\n",
    "print(\" #  ##     #   # \")"
   ]
  },
  {
   "cell_type": "code",
   "execution_count": null,
   "id": "84602d44",
   "metadata": {},
   "outputs": [],
   "source": [
    "#W2A19\n",
    "days = ['Monday','Tuesday','Wednesday','Thursday','Friday','Saturday','Sunday']\n",
    "for i in days:\n",
    "    print(i)\n"
   ]
  },
  {
   "cell_type": "code",
   "execution_count": null,
   "id": "b0e792dd",
   "metadata": {},
   "outputs": [],
   "source": [
    "#W2A20\n",
    "months = ['January', 'February', 'March', 'April', 'May', 'June', 'July', 'August', 'September', 'October', 'November', 'December']\n",
    "for i in months:\n",
    "    print(i)"
   ]
  },
  {
   "cell_type": "code",
   "execution_count": null,
   "id": "52f0f6ed",
   "metadata": {},
   "outputs": [],
   "source": [
    "#W2A21\n",
    "for i in range (10):\n",
    "    print(\"Hello, world\")"
   ]
  }
 ],
 "metadata": {
  "language_info": {
   "name": "python"
  }
 },
 "nbformat": 4,
 "nbformat_minor": 5
}
