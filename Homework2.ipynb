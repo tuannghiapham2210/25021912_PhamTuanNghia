{
 "cells": [
  {
   "cell_type": "code",
   "execution_count": null,
   "id": "8dbbab02",
   "metadata": {},
   "outputs": [],
   "source": [
    "#Bài 1: Nhập vào 2 cạnh của một hình chữ nhật. In ra màn hình diện tích và chu vi của nó.\n",
    "a, b = map(int, input().split())\n",
    "area = a * b\n",
    "perimeter = (a + b) * 2\n",
    "print(f\"Dien tich hinh chu nhat la: {area}\")\n",
    "print(f\"Chu vi hinh chu nhat la: {perimeter}\")\n"
   ]
  },
  {
   "cell_type": "code",
   "execution_count": null,
   "id": "0d1cc73f",
   "metadata": {},
   "outputs": [],
   "source": [
    "#Bài 2: Nhập vào bán kính của hình tròn. In ra màn hình diện tích và chu vi của nó.\n",
    "radius = int(input())\n",
    "area = 3.14 * pow(radius, 2)\n",
    "perimeter = 2 * 3.14 * radius\n",
    "print(f\"Dien tich hinh tron la: {area}\")\n",
    "print(f\"Chu vi hinh tron la: {perimeter}\")"
   ]
  },
  {
   "cell_type": "code",
   "execution_count": null,
   "id": "93864b2e",
   "metadata": {},
   "outputs": [],
   "source": [
    "#Bài 3: Tính tam giác: Nhâp vào ba số a,b,c bất kì. Kiểmtra xem nó có thể làđộ dài ba cạnh hay không, nếu không thì in ra màn hình 'Khong la ba canh cua mot tam giac'. Ngược lại, kiểm tra xem nó là tam giác gì: Đều, Cân, Vuông, hay Tam giác thường. Tính diện tích, chu vi của tam giác và in ra mànhình.\n",
    "import math\n",
    "a = float(input())\n",
    "b = float(input())\n",
    "c = float(input())\n",
    "if a + b > c and a + c > b and b + c > a:\n",
    "    perimeter = a + b + c\n",
    "    p = perimeter / 2\n",
    "    area = math.sqrt(p * (p-a) * (p-b) * (p-c))\n",
    "    if a == b == c:\n",
    "        print(\"đây là tam giác đều\")\n",
    "    elif a == b or b == c or a == c:\n",
    "\n",
    "        if ((a**2 + b**2) == c**2) or ((a**2 + c**2) == b**2) or ((b**2 + c**2) == a**2):\n",
    "            print(\"đây là tam giác vuông cân\")\n",
    "\n",
    "        else:\n",
    "            print(\"đây là tam giác cân\")\n",
    "\n",
    "    elif ((a**2 + b**2) == c**2) or ((a**2 + c**2) == b**2) or ((b**2 + c**2) == a**2):\n",
    "        print(\"đây là tam giác vuông\")\n",
    "\n",
    "    else:\n",
    "        print(\"đây là tam giác thường\")\n",
    "\n",
    "    print(f\"chu vi tam giác là: {perimeter}\")\n",
    "    print(f\"diện tích tam giác là: {area}\")\n",
    "else:\n",
    "    print(\"không là 3 cạnh của một tam giác\")"
   ]
  },
  {
   "cell_type": "code",
   "execution_count": null,
   "id": "e9c7e899",
   "metadata": {},
   "outputs": [],
   "source": [
    "#Bài 4: Viết chương trình giải phương trình bậc 1 (ax + b = 0)\n",
    "a, b = map(int, input().split())\n",
    "x = -b/a\n",
    "print(x)"
   ]
  },
  {
   "cell_type": "code",
   "execution_count": null,
   "id": "b274187e",
   "metadata": {},
   "outputs": [],
   "source": [
    "#Bài 5: Viết chương trình giải phương trình bậc 2 (ax2 + bx + c = 0)\n",
    "import math\n",
    "a, b, c = map(int, input().split())\n",
    "if a != 0:\n",
    "    delta = b ** 2 - 4 * a * c\n",
    "    if delta > 0:\n",
    "        x1 = (-b + math.sqrt(delta)) / (2 * a)\n",
    "        x2 = (-b - math.sqrt(delta)) / (2 * a)\n",
    "        print(f\"x1 = {x1}\", f\"x2 = {x2}\", sep=\"\\n\")\n",
    "    elif delta == 0:\n",
    "        x = -b / (2 * a)\n",
    "        print(f\"x = {x}\")\n",
    "    else:\n",
    "        print(\"Phương trình vô nghiệm\")\n",
    "else:\n",
    "    print(\"đây không phải phương trình bậc 2\")"
   ]
  },
  {
   "cell_type": "code",
   "execution_count": null,
   "id": "66796c32",
   "metadata": {},
   "outputs": [],
   "source": [
    "#Bài 6: Tìm giá trị lớn nhất trong 4 số a, b, c, d (a, b, c, được nhập từ bàn phím).\n",
    "#Cách 1:\n",
    "mylist = sorted(list(map(int, input().split())))\n",
    "print(mylist[-1])\n",
    "\n",
    "#Cách 2 (dùng luôn hàm builtin):\n",
    "a, b, c, d = map(int, input().split())\n",
    "print(max(a ,b ,c ,d))\n",
    "\n",
    "#Cách 3:\n",
    "list2 = list(map(int, input().split()))\n",
    "maxnum = list2[0]\n",
    "for i in list2:\n",
    "    if i > maxnum:\n",
    "        maxnum = i\n",
    "print(maxnum)"
   ]
  },
  {
   "cell_type": "code",
   "execution_count": null,
   "id": "79335e53",
   "metadata": {},
   "outputs": [],
   "source": [
    "#Bài 7: Tìm giá trị nhỏ nhất trong 4 số a, b, c, d (a, b, c, được nhập từ bàn phím).\n",
    "#Cách 1:\n",
    "mylist = sorted(list(map(int, input().split())))\n",
    "print(mylist[0])\n",
    "\n",
    "#Cách 2:\n",
    "list1 = list(map(int,input().split()))\n",
    "minnum = list1[0]\n",
    "for i in list1:\n",
    "    if i < minnum:\n",
    "        minnum = i\n",
    "print(minnum)\n",
    "\n",
    "#Cách 3:\n",
    "a, b, c, d = map(int,input().split())\n",
    "print(min(a, b, c, d))"
   ]
  },
  {
   "cell_type": "code",
   "execution_count": null,
   "id": "762bbddd",
   "metadata": {},
   "outputs": [],
   "source": [
    "#Bài 8: Giải hệ phương trình tuyến tính:\n",
    "a, b, m, c, d, n = map(int, input().split())\n",
    "det = a * d - b * c\n",
    "if det != 0:\n",
    "    x = (m * d - b * n)/(det)\n",
    "    y = (a * n - m * c)/(det)\n",
    "    print(f\"hệ có nghiệm duy nhất x = {x}, y = {y}\" )\n",
    "elif a/c == b/d != m/n:\n",
    "    print(\"hệ phương trình vô nghiệm\")\n",
    "else:\n",
    "    print(\"hệ phương trình có vô số nghiệm\")"
   ]
  },
  {
   "cell_type": "code",
   "execution_count": null,
   "id": "5ac0f0cc",
   "metadata": {},
   "outputs": [],
   "source": [
    "#Bài 9: Nhập vào thời gian 1 công việc nào đó là x giây. Hãy chuyển đổi và viết ra màn hình số thời gian trên dưới dạng bằng bao nhiêu giờ, bao nhiêu phút, bao nhiêu giây.\n",
    "second = int(input())\n",
    "hour = second // (60 * 60)\n",
    "minute = (second - (hour * 60 * 60)) // 60\n",
    "second = second - (hour * 60 * 60) - (minute * 60)\n",
    "print(f\"{hour}:{minute}:{second}\")\n"
   ]
  },
  {
   "cell_type": "code",
   "execution_count": null,
   "id": "6dad9ff4",
   "metadata": {},
   "outputs": [],
   "source": [
    "#Bài 10: Nhập vào tâm và bán kính của một đường tròn. Sau đó nhập vào một điểm A(x, y) bất kì và kiểm tra xem nó có thuộc đường tròn hay không?\n",
    "a, b = map(float, input(\"nhập tọa độ tâm của đường tròn:\").split())\n",
    "radius = float(input(\"nhập bán kính của đường tròn:\"))\n",
    "x, y = map(float, input(\"nhập tọa độ của một điểm bất kì:\").split())\n",
    "if (x - a)**2 + (y - b)**2 == radius**2:\n",
    "    print(\"điểm này thuộc đường tròn\")\n",
    "else:\n",
    "    print(\"điểm này không nằm trên đường tròn\")"
   ]
  },
  {
   "cell_type": "code",
   "execution_count": null,
   "id": "ef82cb08",
   "metadata": {},
   "outputs": [],
   "source": [
    "#Bài 11: Tính x mũ y (Với x,y là số thực)\n",
    "x = float(input())\n",
    "y = float(input())\n",
    "print(x**y)\n"
   ]
  }
 ],
 "metadata": {
  "language_info": {
   "name": "python"
  }
 },
 "nbformat": 4,
 "nbformat_minor": 5
}
